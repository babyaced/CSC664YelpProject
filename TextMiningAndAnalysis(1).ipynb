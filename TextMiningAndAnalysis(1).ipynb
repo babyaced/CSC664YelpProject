{
 "cells": [
  {
   "cell_type": "code",
   "execution_count": 13,
   "metadata": {},
   "outputs": [
    {
     "name": "stderr",
     "output_type": "stream",
     "text": [
      "[nltk_data] Downloading package stopwords to\n",
      "[nltk_data]     /Users/danielsimpson/nltk_data...\n",
      "[nltk_data]   Unzipping corpora/stopwords.zip.\n",
      "[nltk_data] Downloading package wordnet to\n",
      "[nltk_data]     /Users/danielsimpson/nltk_data...\n",
      "[nltk_data]   Unzipping corpora/wordnet.zip.\n"
     ]
    },
    {
     "data": {
      "text/plain": [
       "<AxesSubplot:title={'center':'rating = 1'}, xlabel='rating', ylabel='review_length'>"
      ]
     },
     "execution_count": 13,
     "metadata": {},
     "output_type": "execute_result"
    },
    {
     "data": {
      "image/png": "[encoded data removed]",
      "text/plain": [
       "<Figure size 1080x216 with 5 Axes>"
      ]
     },
     "metadata": {
      "needs_background": "light"
     },
     "output_type": "display_data"
    }
   ],
   "source": [
    "import pandas as pd\n",
    "import numpy as np\n",
    "import matplotlib.pyplot as plt\n",
    "import seaborn as sns\n",
    "import string \n",
    "import nltk\n",
    "nltk.download('stopwords') # download stopwords dataset\n",
    "nltk.download('wordnet')\n",
    "wn=nltk.WordNetLemmatizer()\n",
    "\n",
    "from nltk.corpus import stopwords\n",
    "stopwords.words('english')\n",
    "\n",
    "pd.set_option(\"display.max_rows\", None, \"display.max_columns\", None)\n",
    "\n",
    "data = pd.read_csv('all.csv')\n",
    "pd.set_option(\"display.max_rows\", None, \"display.max_columns\", None)\n",
    "\n",
    "data.head()\n",
    "\n",
    "data.dropna()\n",
    "data['review']=data.review.str[2:-2]\n",
    "data['author']=data.author.str[2:-2]\n",
    "data['date']=data.date.str[2:-2]\n",
    "data['rating']=data.rating.str[2:-2]\n",
    "data['restaurant']=data.restaurant.str[2:-2]\n",
    "data['rating']=data.rating.str[:1]\n",
    "\n",
    "data.tail()\n",
    "\n",
    "data.groupby('rating').describe()\n",
    "\n",
    "data['review_length'] = data['review'].apply(lambda x: len(x) - x.count(' '))\n",
    "\n",
    "hist = sns.FacetGrid(data=data, col='rating')\n",
    "hist.map(plt.hist, 'review_length', bins=50)\n",
    "\n",
    "sns.boxplot(x='rating', y='review_length', data=data)\n",
    "\n",
    "\n"
   ]
  },
  {
   "cell_type": "code",
   "execution_count": null,
   "metadata": {},
   "outputs": [],
   "source": []
  },
  {
   "cell_type": "code",
   "execution_count": null,
   "metadata": {},
   "outputs": [],
   "source": []
  },
  {
   "cell_type": "code",
   "execution_count": null,
   "metadata": {},
   "outputs": [],
   "source": []
  }
 ],
 "metadata": {
  "kernelspec": {
   "display_name": "Python 3",
   "language": "python",
   "name": "python3"
  },
  "language_info": {
   "codemirror_mode": {
    "name": "ipython",
    "version": 3
   },
   "file_extension": ".py",
   "mimetype": "text/x-python",
   "name": "python",
   "nbconvert_exporter": "python",
   "pygments_lexer": "ipython3",
   "version": "3.7.3"
  }
 },
 "nbformat": 4,
 "nbformat_minor": 4
}
